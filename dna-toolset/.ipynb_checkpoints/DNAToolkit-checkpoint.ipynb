{
 "cells": [
  {
   "cell_type": "code",
   "execution_count": null,
   "id": "c653cb0a",
   "metadata": {},
   "outputs": [],
   "source": [
    "#DNA Toolkit file\n",
    "\n",
    "Nucleotides = ['A', 'C', 'G', 'T']\n",
    "\n",
    "#Check sequence to make sure it is a DNA String\n",
    "def validateSeq(seq):\n",
    "    tempseq = seq.upper() #uppercase version of string input\n",
    "    for nuc in tempseq:\n",
    "        if nuc not in Nucleotides:\n",
    "            return False\n",
    "    return tempseq    \n",
    "    \n",
    "    \n",
    "#Count nucleotide frequency\n",
    "def countNucFrequency(seq):\n",
    "    tempFreqDict = {'A': 0, 'C': 0, 'G': 0, 'T': 0}\n",
    "    for nuc in seq:\n",
    "        tempFreqDict[nuc] += 1\n",
    "    return tempFreqDict"
   ]
  }
 ],
 "metadata": {
  "kernelspec": {
   "display_name": "Python 3 (ipykernel)",
   "language": "python",
   "name": "python3"
  },
  "language_info": {
   "codemirror_mode": {
    "name": "ipython",
    "version": 3
   },
   "file_extension": ".py",
   "mimetype": "text/x-python",
   "name": "python",
   "nbconvert_exporter": "python",
   "pygments_lexer": "ipython3",
   "version": "3.10.9"
  }
 },
 "nbformat": 4,
 "nbformat_minor": 5
}
